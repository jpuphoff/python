{
 "metadata": {
  "language_info": {
   "codemirror_mode": {
    "name": "ipython",
    "version": 3
   },
   "file_extension": ".py",
   "mimetype": "text/x-python",
   "name": "python",
   "nbconvert_exporter": "python",
   "pygments_lexer": "ipython3",
   "version": "3.9.4"
  },
  "orig_nbformat": 2,
  "kernelspec": {
   "name": "python394jvsc74a57bd07fb589d257abc53f003cab0a65ff9478833bd5a7964b0df8d759706e3429f502",
   "display_name": "Python 3.9.4 64-bit"
  }
 },
 "nbformat": 4,
 "nbformat_minor": 2,
 "cells": [
  {
   "source": [
    "# Lection 1"
   ],
   "cell_type": "markdown",
   "metadata": {}
  },
  {
   "source": [
    "### Type of data | List | tupple  | dictionary"
   ],
   "cell_type": "markdown",
   "metadata": {}
  },
  {
   "cell_type": "code",
   "execution_count": 2,
   "metadata": {},
   "outputs": [
    {
     "output_type": "error",
     "ename": "NameError",
     "evalue": "name 'list_str' is not defined",
     "traceback": [
      "\u001b[1;31m---------------------------------------------------------------------------\u001b[0m",
      "\u001b[1;31mNameError\u001b[0m                                 Traceback (most recent call last)",
      "\u001b[1;32m<ipython-input-2-057ed90ef095>\u001b[0m in \u001b[0;36m<module>\u001b[1;34m\u001b[0m\n\u001b[0;32m     10\u001b[0m \u001b[0mlist_mix\u001b[0m \u001b[1;33m=\u001b[0m \u001b[1;33m[\u001b[0m\u001b[1;34m\"Monday\"\u001b[0m\u001b[1;33m,\u001b[0m\u001b[1;36m6\u001b[0m\u001b[1;33m,\u001b[0m\u001b[1;34m\"Saturday\"\u001b[0m\u001b[1;33m,\u001b[0m\u001b[1;36m9\u001b[0m\u001b[1;33m,\u001b[0m\u001b[1;36m1\u001b[0m\u001b[1;33m]\u001b[0m\u001b[1;33m\u001b[0m\u001b[1;33m\u001b[0m\u001b[0m\n\u001b[0;32m     11\u001b[0m \u001b[1;33m\u001b[0m\u001b[0m\n\u001b[1;32m---> 12\u001b[1;33m \u001b[0mlist_str\u001b[0m\u001b[1;33m.\u001b[0m\u001b[0mappend\u001b[0m\u001b[1;33m(\u001b[0m\u001b[1;34m\"Saturday\"\u001b[0m\u001b[1;33m)\u001b[0m \u001b[1;31m#add item\u001b[0m\u001b[1;33m\u001b[0m\u001b[1;33m\u001b[0m\u001b[0m\n\u001b[0m\u001b[0;32m     13\u001b[0m \u001b[0mlist_str\u001b[0m\u001b[1;33m.\u001b[0m\u001b[0mremove\u001b[0m\u001b[1;33m(\u001b[0m\u001b[1;34m\"Saturday\"\u001b[0m\u001b[1;33m)\u001b[0m \u001b[1;31m#remove item\u001b[0m\u001b[1;33m\u001b[0m\u001b[1;33m\u001b[0m\u001b[0m\n\u001b[0;32m     14\u001b[0m \u001b[0mprint\u001b[0m\u001b[1;33m(\u001b[0m\u001b[0msorted\u001b[0m\u001b[1;33m(\u001b[0m\u001b[0mlist_str\u001b[0m\u001b[1;33m)\u001b[0m\u001b[1;33m)\u001b[0m     \u001b[1;31m#alphabetical order\u001b[0m\u001b[1;33m\u001b[0m\u001b[1;33m\u001b[0m\u001b[0m\n",
      "\u001b[1;31mNameError\u001b[0m: name 'list_str' is not defined"
     ]
    }
   ],
   "source": [
    "int_var = 1                    #integer\n",
    "flo_var = 1.5                  #float\n",
    "com_var = 1+2j                 #complex\n",
    "str_var = \"Hola my fren\"       #string\n",
    "\n",
    "######################   LIST   ######################\n",
    "list1 =[]\n",
    "weekdays = [\"Monday\",\"Tuesday\",\"Wednesday\",\"Thursday\",\"Friday\"] #list of string\n",
    "list_int = [1,2,3,4,5]         #list of integer\n",
    "list_mix = [\"Monday\",6,\"Saturday\",9,1]\n",
    "\n",
    "list_str.append(\"Saturday\") #add item\n",
    "list_str.remove(\"Saturday\") #remove item\n",
    "print(sorted(list_str))     #alphabetical order\n",
    "\n",
    "weekend =[\"Saturday\",\"Sunday\"]\n",
    "print(weekdays + weekend)   #concatenate 2 lists\n",
    "weekdays.extend(weekend)    #concatenate and save in the first list\n",
    "print(weekdays)\n",
    "\n",
    "print(weekdays[0])          #print first element\n",
    "print(weekdays[-1])         #  \"   last    \"\n",
    "print(weekdays[2:5])        #print 3rd to 5th element\n",
    "\n",
    "weekdays[-1] = \"Domingo\"    #modify an element\n",
    "print(weekdays)\n",
    "\n",
    "\n",
    "######################   TUPLE   ######################\n",
    "# Like a list but immutable\n",
    "tupple1 = ()\n",
    "year_born = (\"Juan Pablo\", 1995)\n",
    "print(year_born)\n",
    "\n",
    "######################   DICTIONARY   ######################\n",
    "dict1 = {}\n",
    "birth_year = {1995:\"Juan Pablo\",2008:\"Sophie\",1991:\"Ana\",1998:\"Daniel\"}\n",
    "who = birth_year[1991]        #Check who was born in 1991\n",
    "print(who)\n",
    "print(birth_year.keys())      #check all keys (years in this case)\n",
    "print(birth_year.values())    #Check all values (names)\n",
    "birth_year[1997] = \"Mati\"     #Add one element\n",
    "birth_year[1997] = \"Matilda\"  #Modify value\n"
   ]
  },
  {
   "source": [
    "### Iteration & Logic operation"
   ],
   "cell_type": "markdown",
   "metadata": {}
  },
  {
   "cell_type": "code",
   "execution_count": 46,
   "metadata": {},
   "outputs": [
    {
     "output_type": "stream",
     "name": "stdout",
     "text": [
      "True\nb is greater\nMonday\nTuesday\nWednesday\nThursday\nFriday\n0 Monday\n1 Tuesday\n2 Wednesday\n3 Thursday\n4 Friday\n0|1|1|2|3|5|8|13|21|34|55|89|144|233|377|5 6 7 8 9 Juan Pablo\nSophie\nAna\nDaniel\n1995 Juan Pablo\n2008 Sophie\n1991 Ana\n1998 Daniel\n"
     ]
    }
   ],
   "source": [
    "a=5\n",
    "b=6\n",
    "print(a<b) #Other operators: == , <= , >= , =!\n",
    "\n",
    "\n",
    "############### IF  | ELSE  | ELIF ##############\n",
    "if a>b:\n",
    "    print(\"a is greater\")\n",
    "elif a<b:\n",
    "    print(\"b is greater\")\n",
    "else:\n",
    "    print(\"they are equal\")\n",
    "\n",
    "\n",
    "\n",
    "############### FOR ###############\n",
    "weekdays = [\"Monday\",\"Tuesday\",\"Wednesday\",\"Thursday\",\"Friday\"]\n",
    "for day in weekdays:     \n",
    "    print(day)           #print each element of the list\n",
    "\n",
    "for i, day in enumerate(weekdays):\n",
    "    print(i,day)         #enumerate each element\n",
    "\n",
    "\n",
    "\n",
    "############### WHILE ###############\n",
    "n = 500                  #Fibonacci sequence\n",
    "a,b = 0,1\n",
    "while a<n:    \n",
    "    a,b = b, a+b    \n",
    "    print(a, end=\"|\")    \n",
    "\n",
    "\n",
    "\n",
    "\n",
    "##RANGE\n",
    "for i in range(5,10):\n",
    "    print(i,end=\" \")\n",
    "\n",
    "\n",
    "##Iterate dict\n",
    "birth_year = {1995:\"Juan Pablo\",2008:\"Sophie\",1991:\"Ana\",1998:\"Daniel\"}\n",
    "for name in birth_year.values():  #or ..year.keys()  \n",
    "    print(name)\n",
    "\n",
    "for year,name in birth_year.items():\n",
    "    print(year,name)"
   ]
  },
  {
   "source": [
    "### Functions"
   ],
   "cell_type": "markdown",
   "metadata": {}
  },
  {
   "cell_type": "code",
   "execution_count": 51,
   "metadata": {},
   "outputs": [
    {
     "output_type": "stream",
     "name": "stdout",
     "text": [
      "0|1|1|2|3|5|8|13|21|34|55|89|144|233|377|610|987|"
     ]
    }
   ],
   "source": [
    "def sum(x,y):\n",
    "    return x+y\n",
    "sum(5,1)\n",
    "\n",
    "def use():     #function doing nothing using \"pass\"\n",
    "    pass \n",
    "\n",
    "def fibon(n):\n",
    "    a,b=0,1\n",
    "    while a<n:\n",
    "        print(a,end=\"|\")\n",
    "        a,b=b,a+b\n",
    "fibon(1234)"
   ]
  },
  {
   "source": [
    "### EXERCISE 1\n",
    "Count number of vowels and consonants \"Kigali is the capital and largest city of Rwanda. It is near the nation's geographic centre in a region of rolling hills, with a series of valleys and ridges joined by steep slopes. The city has been Rwanda's economic, cultural, and transport hub since it became the capital following independence from Belgium in 1962.\""
   ],
   "cell_type": "markdown",
   "metadata": {}
  },
  {
   "source": [
    "#### Answer"
   ],
   "cell_type": "markdown",
   "metadata": {}
  },
  {
   "cell_type": "code",
   "execution_count": 5,
   "metadata": {},
   "outputs": [
    {
     "output_type": "stream",
     "name": "stdout",
     "text": [
      "Number of vowels: 97\nNumber of consonants: 157\n"
     ]
    }
   ],
   "source": [
    "def coun(text):\n",
    "    num_vow = 0\n",
    "    num_cons= 0\n",
    "    vowels = [\"a\",\"e\",\"i\",\"o\",\"u\"]\n",
    "\n",
    "    for c in text.lower():     #transform all letter into lower case (it makes it easier)\n",
    "        if c in vowels:\n",
    "            num_vow = num_vow+1\n",
    "        elif c>\"a\" and c<=\"z\":\n",
    "            num_cons = num_cons+1\n",
    "    return(num_vow,num_cons)\n",
    "text1 = \"Kigali is the capital and largest city of Rwanda. It is near the nation's geographic centre in a region of rolling hills, with a series of valleys and ridges joined by steep slopes. The city has been Rwanda's economic, cultural, and transport hub since it became the capital following independence from Belgium in 1962\"\n",
    "\n",
    "num_vow, num_cons = coun(text1)\n",
    "print(\"Number of vowels: %d\" % num_vow)\n",
    "print(\"Number of consonants: %d\" % num_cons)\n",
    "\n"
   ]
  }
 ]
}