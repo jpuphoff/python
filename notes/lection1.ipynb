{
 "metadata": {
  "language_info": {
   "codemirror_mode": {
    "name": "ipython",
    "version": 3
   },
   "file_extension": ".py",
   "mimetype": "text/x-python",
   "name": "python",
   "nbconvert_exporter": "python",
   "pygments_lexer": "ipython3",
   "version": "3.9.4"
  },
  "orig_nbformat": 2,
  "kernelspec": {
   "name": "python394jvsc74a57bd07fb589d257abc53f003cab0a65ff9478833bd5a7964b0df8d759706e3429f502",
   "display_name": "Python 3.9.4 64-bit"
  }
 },
 "nbformat": 4,
 "nbformat_minor": 2,
 "cells": [
  {
   "source": [
    "# Lection 1"
   ],
   "cell_type": "markdown",
   "metadata": {}
  },
  {
   "source": [
    "### Type of data | List | tupple  | dictionary"
   ],
   "cell_type": "markdown",
   "metadata": {}
  },
  {
   "cell_type": "code",
   "execution_count": 9,
   "metadata": {},
   "outputs": [],
   "source": [
    "int_var = 1                    #integer\n",
    "flo_var = 1.5                  #float\n",
    "com_var = 1+2j                 #complex\n",
    "str_var = \"Hola my fren\"       #string\n"
   ]
  },
  {
   "source": [
    "##############################   LIST   ######################\n"
   ],
   "cell_type": "markdown",
   "metadata": {}
  },
  {
   "cell_type": "code",
   "execution_count": 10,
   "metadata": {},
   "outputs": [
    {
     "output_type": "stream",
     "name": "stdout",
     "text": [
      "['Friday', 'Monday', 'Thursday', 'Tuesday', 'Wednesday']\n"
     ]
    }
   ],
   "source": [
    "\n",
    "list1 =[]\n",
    "weekdays = [\"Monday\",\"Tuesday\",\"Wednesday\",\"Thursday\",\"Friday\"] #list of string\n",
    "list_int = [1,2,3,4,5]         #list of integer\n",
    "list_mix = [\"Monday\",6,\"Saturday\",9,1]\n",
    "\n",
    "weekdays.append(\"Saturday\") #add item\n",
    "weekdays.remove(\"Saturday\") #remove item\n",
    "print(sorted(weekdays))     #alphabetical order\n",
    "\n"
   ]
  },
  {
   "cell_type": "code",
   "execution_count": 11,
   "metadata": {},
   "outputs": [
    {
     "output_type": "stream",
     "name": "stdout",
     "text": [
      "['Monday', 'Tuesday', 'Wednesday', 'Thursday', 'Friday', 'Saturday', 'Sunday']\n['Monday', 'Tuesday', 'Wednesday', 'Thursday', 'Friday', 'Saturday', 'Sunday']\n"
     ]
    }
   ],
   "source": [
    "weekend =[\"Saturday\",\"Sunday\"]\n",
    "print(weekdays + weekend)   #concatenate 2 lists\n",
    "weekdays.extend(weekend)    #concatenate and save in the first list\n",
    "print(weekdays)"
   ]
  },
  {
   "cell_type": "code",
   "execution_count": 12,
   "metadata": {},
   "outputs": [
    {
     "output_type": "stream",
     "name": "stdout",
     "text": [
      "Monday\nSunday\n['Wednesday', 'Thursday', 'Friday']\n['Monday', 'Tuesday', 'Wednesday', 'Thursday', 'Friday', 'Saturday', 'Domingo']\n"
     ]
    }
   ],
   "source": [
    "print(weekdays[0])          #print first element\n",
    "print(weekdays[-1])         #  \"   last    \"\n",
    "print(weekdays[2:5])        #print 3rd to 5th element\n",
    "\n",
    "weekdays[-1] = \"Domingo\"    #modify an element\n",
    "print(weekdays)"
   ]
  },
  {
   "source": [
    "################################# TUPLE #################################\n",
    "\n",
    "Like a list but immutable"
   ],
   "cell_type": "markdown",
   "metadata": {}
  },
  {
   "cell_type": "code",
   "execution_count": 13,
   "metadata": {},
   "outputs": [
    {
     "output_type": "stream",
     "name": "stdout",
     "text": [
      "('Juan Pablo', 1995)\n"
     ]
    }
   ],
   "source": [
    "year_born=(\"Juan Pablo\", 1995)\n",
    "print(year_born)"
   ]
  },
  {
   "source": [
    "################################# DICTIONARY  #################################\n"
   ],
   "cell_type": "markdown",
   "metadata": {}
  },
  {
   "cell_type": "code",
   "execution_count": 14,
   "metadata": {},
   "outputs": [
    {
     "output_type": "stream",
     "name": "stdout",
     "text": [
      "Ana\ndict_keys([1995, 2008, 1991, 1998])\ndict_values(['Juan Pablo', 'Sophie', 'Ana', 'Daniel'])\n{1995: 'Juan Pablo', 2008: 'Sophie', 1991: 'Ana', 1998: 'Daniel', 1997: 'Matilda'}\n"
     ]
    }
   ],
   "source": [
    "dict1 = {}\n",
    "birth_year = {1995:\"Juan Pablo\",2008:\"Sophie\",1991:\"Ana\",1998:\"Daniel\"}\n",
    "who = birth_year[1991]        #Check who was born in 1991\n",
    "print(who)\n",
    "print(birth_year.keys())      #check all keys (years in this case)\n",
    "print(birth_year.values())    #Check all values (names)\n",
    "birth_year[1997] = \"Mati\"     #Add one element\n",
    "birth_year[1997] = \"Matilda\"  #Modify value\n",
    "print(birth_year)"
   ]
  },
  {
   "source": [
    "### Iteration & Logic operation"
   ],
   "cell_type": "markdown",
   "metadata": {}
  },
  {
   "cell_type": "code",
   "execution_count": 15,
   "metadata": {},
   "outputs": [
    {
     "output_type": "stream",
     "name": "stdout",
     "text": [
      "True\n"
     ]
    }
   ],
   "source": [
    "a=5\n",
    "b=6\n",
    "print(a<b) #Other operators: == , <= , >= , =!"
   ]
  },
  {
   "source": [
    "############### IF  | ELSE  | ELIF ##############"
   ],
   "cell_type": "markdown",
   "metadata": {}
  },
  {
   "cell_type": "code",
   "execution_count": 16,
   "metadata": {},
   "outputs": [
    {
     "output_type": "stream",
     "name": "stdout",
     "text": [
      "b is greater\n"
     ]
    }
   ],
   "source": [
    "if a>b:\n",
    "    print(\"a is greater\")\n",
    "elif a<b:\n",
    "    print(\"b is greater\")\n",
    "else:\n",
    "    print(\"they are equal\")"
   ]
  },
  {
   "source": [
    "############### FOR ###############"
   ],
   "cell_type": "markdown",
   "metadata": {}
  },
  {
   "cell_type": "code",
   "execution_count": 17,
   "metadata": {},
   "outputs": [
    {
     "output_type": "stream",
     "name": "stdout",
     "text": [
      "Monday\nTuesday\nWednesday\nThursday\nFriday\n0 Monday\n1 Tuesday\n2 Wednesday\n3 Thursday\n4 Friday\n"
     ]
    }
   ],
   "source": [
    "weekdays = [\"Monday\",\"Tuesday\",\"Wednesday\",\"Thursday\",\"Friday\"]\n",
    "for day in weekdays:     \n",
    "    print(day)           #print each element of the list\n",
    "\n",
    "for i, day in enumerate(weekdays):\n",
    "    print(i,day)         #enumerate each element"
   ]
  },
  {
   "source": [
    "############### WHILE ###############"
   ],
   "cell_type": "markdown",
   "metadata": {}
  },
  {
   "cell_type": "code",
   "execution_count": 18,
   "metadata": {},
   "outputs": [
    {
     "output_type": "stream",
     "name": "stdout",
     "text": [
      "1|1|2|3|5|8|13|21|34|55|89|144|233|377|610|"
     ]
    }
   ],
   "source": [
    "n = 500                  #Fibonacci sequence\n",
    "a,b = 0,1\n",
    "while a<n:    \n",
    "    a,b = b, a+b    \n",
    "    print(a, end=\"|\")    "
   ]
  },
  {
   "cell_type": "code",
   "execution_count": 19,
   "metadata": {},
   "outputs": [
    {
     "output_type": "stream",
     "name": "stdout",
     "text": [
      "5 6 7 8 9 Juan Pablo\nSophie\nAna\nDaniel\n1995 Juan Pablo\n2008 Sophie\n1991 Ana\n1998 Daniel\n"
     ]
    }
   ],
   "source": [
    "##RANGE\n",
    "for i in range(5,10):\n",
    "    print(i,end=\" \")\n",
    "\n",
    "\n",
    "##Iterate dict\n",
    "birth_year = {1995:\"Juan Pablo\",2008:\"Sophie\",1991:\"Ana\",1998:\"Daniel\"}\n",
    "for name in birth_year.values():  #or ..year.keys()  \n",
    "    print(name)\n",
    "\n",
    "for year,name in birth_year.items():\n",
    "    print(year,name)"
   ]
  },
  {
   "source": [
    "### Functions"
   ],
   "cell_type": "markdown",
   "metadata": {}
  },
  {
   "cell_type": "code",
   "execution_count": 20,
   "metadata": {},
   "outputs": [
    {
     "output_type": "execute_result",
     "data": {
      "text/plain": [
       "167"
      ]
     },
     "metadata": {},
     "execution_count": 20
    }
   ],
   "source": [
    "def use():     #function doing nothing using \"pass\"\n",
    "    pass \n",
    "\n",
    "def sum(x,y):\n",
    "    return x+y\n",
    "sum(55,112)"
   ]
  },
  {
   "cell_type": "code",
   "execution_count": 21,
   "metadata": {},
   "outputs": [
    {
     "output_type": "stream",
     "name": "stdout",
     "text": [
      "0|1|1|2|3|5|8|13|21|34|55|89|144|233|377|610|987|"
     ]
    }
   ],
   "source": [
    "def fibon(n):\n",
    "    a,b=0,1\n",
    "    while a<n:\n",
    "        print(a,end=\"|\")\n",
    "        a,b=b,a+b\n",
    "fibon(1234)"
   ]
  },
  {
   "source": [
    "### EXERCISE 1\n",
    "Count number of vowels and consonants of the following text \"Kigali is the capital and largest city of Rwanda. It is near the nation's geographic centre in a region of rolling hills, with a series of valleys and ridges joined by steep slopes. The city has been Rwanda's economic, cultural, and transport hub since it became the capital following independence from Belgium in 1962.\""
   ],
   "cell_type": "markdown",
   "metadata": {}
  },
  {
   "source": [
    "#### Answer"
   ],
   "cell_type": "markdown",
   "metadata": {}
  },
  {
   "cell_type": "code",
   "execution_count": 22,
   "metadata": {},
   "outputs": [
    {
     "output_type": "stream",
     "name": "stdout",
     "text": [
      "Number of vowels: 97\nNumber of consonants: 157\n"
     ]
    }
   ],
   "source": [
    "def coun(text):\n",
    "    num_vow = 0\n",
    "    num_cons= 0\n",
    "    vowels = [\"a\",\"e\",\"i\",\"o\",\"u\"]\n",
    "\n",
    "    for c in text.lower():     #transform all letter into lower case (it makes it easier)\n",
    "        if c in vowels:\n",
    "            num_vow = num_vow+1\n",
    "        elif c>\"a\" and c<=\"z\":\n",
    "            num_cons = num_cons+1\n",
    "    return(num_vow,num_cons)\n",
    "text1 = \"Kigali is the capital and largest city of Rwanda. It is near the nation's geographic centre in a region of rolling hills, with a series of valleys and ridges joined by steep slopes. The city has been Rwanda's economic, cultural, and transport hub since it became the capital following independence from Belgium in 1962\"\n",
    "\n",
    "num_vow, num_cons = coun(text1)\n",
    "print(\"Number of vowels: %d\" % num_vow)\n",
    "print(\"Number of consonants: %d\" % num_cons)\n",
    "\n"
   ]
  }
 ]
}